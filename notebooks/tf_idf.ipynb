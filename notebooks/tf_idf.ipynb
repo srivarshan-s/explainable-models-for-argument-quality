{
  "cells": [
    {
      "cell_type": "markdown",
      "metadata": {
        "id": "ab8Z6U27FqU4"
      },
      "source": [
        "# **TF-IDF**"
      ]
    },
    {
      "cell_type": "markdown",
      "metadata": {
        "id": "U2rKsPgUFz7v"
      },
      "source": [
        "## **ENVIRONMENT SETUP**"
      ]
    },
    {
      "cell_type": "code",
      "source": [
        "from google.colab import drive\n",
        "drive.mount('/content/drive')"
      ],
      "metadata": {
        "colab": {
          "base_uri": "https://localhost:8080/"
        },
        "id": "5xpRuGel-y5c",
        "outputId": "c2552b6d-4175-4418-e7dd-4fe05566ebeb"
      },
      "execution_count": 1,
      "outputs": [
        {
          "output_type": "stream",
          "name": "stdout",
          "text": [
            "Mounted at /content/drive\n"
          ]
        }
      ]
    },
    {
      "cell_type": "code",
      "execution_count": 2,
      "metadata": {
        "colab": {
          "base_uri": "https://localhost:8080/"
        },
        "id": "Iy8ZTwkqEowm",
        "outputId": "abaeb3dc-97c2-44a6-c22b-4fba3ef0c88f"
      },
      "outputs": [
        {
          "output_type": "stream",
          "name": "stdout",
          "text": [
            "rm: cannot remove 'arg_quality_rank_30k.csv': No such file or directory\n",
            "--2023-04-03 07:23:12--  https://www.research.ibm.com/haifa/dept/vst/files/IBM_Debater_(R)_arg_quality_rank_30k.zip\n",
            "Resolving www.research.ibm.com (www.research.ibm.com)... 52.116.220.135\n",
            "Connecting to www.research.ibm.com (www.research.ibm.com)|52.116.220.135|:443... connected.\n",
            "HTTP request sent, awaiting response... 301 Moved Permanently\n",
            "Location: https://research.ibm.com/haifa/dept/vst/files/IBM_Debater_(R)_arg_quality_rank_30k.zip [following]\n",
            "--2023-04-03 07:23:12--  https://research.ibm.com/haifa/dept/vst/files/IBM_Debater_(R)_arg_quality_rank_30k.zip\n",
            "Resolving research.ibm.com (research.ibm.com)... 52.116.220.135\n",
            "Connecting to research.ibm.com (research.ibm.com)|52.116.220.135|:443... connected.\n",
            "HTTP request sent, awaiting response... 200 OK\n",
            "Length: 1524714 (1.5M) [application/zip]\n",
            "Saving to: ‘IBM_Debater_(R)_arg_quality_rank_30k.zip’\n",
            "\n",
            "IBM_Debater_(R)_arg 100%[===================>]   1.45M  4.24MB/s    in 0.3s    \n",
            "\n",
            "2023-04-03 07:23:13 (4.24 MB/s) - ‘IBM_Debater_(R)_arg_quality_rank_30k.zip’ saved [1524714/1524714]\n",
            "\n",
            "Archive:  IBM_Debater_(R)_arg_quality_rank_30k.zip\n",
            "  inflating: arg_quality_rank_30k.csv  \n",
            "  inflating: readme.txt              \n"
          ]
        }
      ],
      "source": [
        "# Download the dataset\n",
        "\n",
        "!rm arg_quality_rank_30k.csv\n",
        "!wget \"https://www.research.ibm.com/haifa/dept/vst/files/IBM_Debater_(R)_arg_quality_rank_30k.zip\"\n",
        "!unzip *.zip\n",
        "!rm *.zip\n",
        "!rm readme.txt"
      ]
    },
    {
      "cell_type": "markdown",
      "metadata": {
        "id": "JOtqWvVpGf2E"
      },
      "source": [
        "## **IMPORT DATASET**"
      ]
    },
    {
      "cell_type": "code",
      "execution_count": 3,
      "metadata": {
        "colab": {
          "base_uri": "https://localhost:8080/",
          "height": 206
        },
        "id": "y_CnD6vKGZKe",
        "outputId": "ae916dec-d059-4d44-f287-02fa3e92b085"
      },
      "outputs": [
        {
          "output_type": "execute_result",
          "data": {
            "text/plain": [
              "                                            argument  \\\n",
              "0  \"marriage\" isn't keeping up with the times.  a...   \n",
              "1  .a multi-party system would be too confusing a...   \n",
              "2  \\ero-tolerance policy in schools should not be...   \n",
              "3  `people reach their limit when it comes to the...   \n",
              "4  100% agree, should they do that, it would be a...   \n",
              "\n",
              "                                               topic    set        WA  \\\n",
              "0                         We should abandon marriage  train  0.846165   \n",
              "1               We should adopt a multi-party system  train  0.891271   \n",
              "2  We should adopt a zero-tolerance policy in sch...    dev  0.721192   \n",
              "3      Assisted suicide should be a criminal offence  train  0.730395   \n",
              "4                      We should abolish safe spaces  train  0.236686   \n",
              "\n",
              "     MACE-P  stance_WA  stance_WA_conf  \n",
              "0  0.297659          1        1.000000  \n",
              "1  0.726133         -1        1.000000  \n",
              "2  0.396953         -1        1.000000  \n",
              "3  0.225212         -1        1.000000  \n",
              "4  0.004104          1        0.805517  "
            ],
            "text/html": [
              "\n",
              "  <div id=\"df-cf977702-8d1a-467b-9480-e6c4f08a2f84\">\n",
              "    <div class=\"colab-df-container\">\n",
              "      <div>\n",
              "<style scoped>\n",
              "    .dataframe tbody tr th:only-of-type {\n",
              "        vertical-align: middle;\n",
              "    }\n",
              "\n",
              "    .dataframe tbody tr th {\n",
              "        vertical-align: top;\n",
              "    }\n",
              "\n",
              "    .dataframe thead th {\n",
              "        text-align: right;\n",
              "    }\n",
              "</style>\n",
              "<table border=\"1\" class=\"dataframe\">\n",
              "  <thead>\n",
              "    <tr style=\"text-align: right;\">\n",
              "      <th></th>\n",
              "      <th>argument</th>\n",
              "      <th>topic</th>\n",
              "      <th>set</th>\n",
              "      <th>WA</th>\n",
              "      <th>MACE-P</th>\n",
              "      <th>stance_WA</th>\n",
              "      <th>stance_WA_conf</th>\n",
              "    </tr>\n",
              "  </thead>\n",
              "  <tbody>\n",
              "    <tr>\n",
              "      <th>0</th>\n",
              "      <td>\"marriage\" isn't keeping up with the times.  a...</td>\n",
              "      <td>We should abandon marriage</td>\n",
              "      <td>train</td>\n",
              "      <td>0.846165</td>\n",
              "      <td>0.297659</td>\n",
              "      <td>1</td>\n",
              "      <td>1.000000</td>\n",
              "    </tr>\n",
              "    <tr>\n",
              "      <th>1</th>\n",
              "      <td>.a multi-party system would be too confusing a...</td>\n",
              "      <td>We should adopt a multi-party system</td>\n",
              "      <td>train</td>\n",
              "      <td>0.891271</td>\n",
              "      <td>0.726133</td>\n",
              "      <td>-1</td>\n",
              "      <td>1.000000</td>\n",
              "    </tr>\n",
              "    <tr>\n",
              "      <th>2</th>\n",
              "      <td>\\ero-tolerance policy in schools should not be...</td>\n",
              "      <td>We should adopt a zero-tolerance policy in sch...</td>\n",
              "      <td>dev</td>\n",
              "      <td>0.721192</td>\n",
              "      <td>0.396953</td>\n",
              "      <td>-1</td>\n",
              "      <td>1.000000</td>\n",
              "    </tr>\n",
              "    <tr>\n",
              "      <th>3</th>\n",
              "      <td>`people reach their limit when it comes to the...</td>\n",
              "      <td>Assisted suicide should be a criminal offence</td>\n",
              "      <td>train</td>\n",
              "      <td>0.730395</td>\n",
              "      <td>0.225212</td>\n",
              "      <td>-1</td>\n",
              "      <td>1.000000</td>\n",
              "    </tr>\n",
              "    <tr>\n",
              "      <th>4</th>\n",
              "      <td>100% agree, should they do that, it would be a...</td>\n",
              "      <td>We should abolish safe spaces</td>\n",
              "      <td>train</td>\n",
              "      <td>0.236686</td>\n",
              "      <td>0.004104</td>\n",
              "      <td>1</td>\n",
              "      <td>0.805517</td>\n",
              "    </tr>\n",
              "  </tbody>\n",
              "</table>\n",
              "</div>\n",
              "      <button class=\"colab-df-convert\" onclick=\"convertToInteractive('df-cf977702-8d1a-467b-9480-e6c4f08a2f84')\"\n",
              "              title=\"Convert this dataframe to an interactive table.\"\n",
              "              style=\"display:none;\">\n",
              "        \n",
              "  <svg xmlns=\"http://www.w3.org/2000/svg\" height=\"24px\"viewBox=\"0 0 24 24\"\n",
              "       width=\"24px\">\n",
              "    <path d=\"M0 0h24v24H0V0z\" fill=\"none\"/>\n",
              "    <path d=\"M18.56 5.44l.94 2.06.94-2.06 2.06-.94-2.06-.94-.94-2.06-.94 2.06-2.06.94zm-11 1L8.5 8.5l.94-2.06 2.06-.94-2.06-.94L8.5 2.5l-.94 2.06-2.06.94zm10 10l.94 2.06.94-2.06 2.06-.94-2.06-.94-.94-2.06-.94 2.06-2.06.94z\"/><path d=\"M17.41 7.96l-1.37-1.37c-.4-.4-.92-.59-1.43-.59-.52 0-1.04.2-1.43.59L10.3 9.45l-7.72 7.72c-.78.78-.78 2.05 0 2.83L4 21.41c.39.39.9.59 1.41.59.51 0 1.02-.2 1.41-.59l7.78-7.78 2.81-2.81c.8-.78.8-2.07 0-2.86zM5.41 20L4 18.59l7.72-7.72 1.47 1.35L5.41 20z\"/>\n",
              "  </svg>\n",
              "      </button>\n",
              "      \n",
              "  <style>\n",
              "    .colab-df-container {\n",
              "      display:flex;\n",
              "      flex-wrap:wrap;\n",
              "      gap: 12px;\n",
              "    }\n",
              "\n",
              "    .colab-df-convert {\n",
              "      background-color: #E8F0FE;\n",
              "      border: none;\n",
              "      border-radius: 50%;\n",
              "      cursor: pointer;\n",
              "      display: none;\n",
              "      fill: #1967D2;\n",
              "      height: 32px;\n",
              "      padding: 0 0 0 0;\n",
              "      width: 32px;\n",
              "    }\n",
              "\n",
              "    .colab-df-convert:hover {\n",
              "      background-color: #E2EBFA;\n",
              "      box-shadow: 0px 1px 2px rgba(60, 64, 67, 0.3), 0px 1px 3px 1px rgba(60, 64, 67, 0.15);\n",
              "      fill: #174EA6;\n",
              "    }\n",
              "\n",
              "    [theme=dark] .colab-df-convert {\n",
              "      background-color: #3B4455;\n",
              "      fill: #D2E3FC;\n",
              "    }\n",
              "\n",
              "    [theme=dark] .colab-df-convert:hover {\n",
              "      background-color: #434B5C;\n",
              "      box-shadow: 0px 1px 3px 1px rgba(0, 0, 0, 0.15);\n",
              "      filter: drop-shadow(0px 1px 2px rgba(0, 0, 0, 0.3));\n",
              "      fill: #FFFFFF;\n",
              "    }\n",
              "  </style>\n",
              "\n",
              "      <script>\n",
              "        const buttonEl =\n",
              "          document.querySelector('#df-cf977702-8d1a-467b-9480-e6c4f08a2f84 button.colab-df-convert');\n",
              "        buttonEl.style.display =\n",
              "          google.colab.kernel.accessAllowed ? 'block' : 'none';\n",
              "\n",
              "        async function convertToInteractive(key) {\n",
              "          const element = document.querySelector('#df-cf977702-8d1a-467b-9480-e6c4f08a2f84');\n",
              "          const dataTable =\n",
              "            await google.colab.kernel.invokeFunction('convertToInteractive',\n",
              "                                                     [key], {});\n",
              "          if (!dataTable) return;\n",
              "\n",
              "          const docLinkHtml = 'Like what you see? Visit the ' +\n",
              "            '<a target=\"_blank\" href=https://colab.research.google.com/notebooks/data_table.ipynb>data table notebook</a>'\n",
              "            + ' to learn more about interactive tables.';\n",
              "          element.innerHTML = '';\n",
              "          dataTable['output_type'] = 'display_data';\n",
              "          await google.colab.output.renderOutput(dataTable, element);\n",
              "          const docLink = document.createElement('div');\n",
              "          docLink.innerHTML = docLinkHtml;\n",
              "          element.appendChild(docLink);\n",
              "        }\n",
              "      </script>\n",
              "    </div>\n",
              "  </div>\n",
              "  "
            ]
          },
          "metadata": {},
          "execution_count": 3
        }
      ],
      "source": [
        "import pandas as pd\n",
        "\n",
        "df = pd.read_csv(\"./arg_quality_rank_30k.csv\")\n",
        "df.head()"
      ]
    },
    {
      "cell_type": "markdown",
      "metadata": {
        "id": "s4W5ETeKHdA5"
      },
      "source": [
        "### Split into Train and Test Sets"
      ]
    },
    {
      "cell_type": "code",
      "execution_count": 4,
      "metadata": {
        "id": "Y1bUeGozGwi3"
      },
      "outputs": [],
      "source": [
        "df_train = df[df[\"set\"] != \"test\"].reset_index(drop=True) # Combine train and dev into train set\n",
        "df_train = df_train.drop([\"set\"], axis=1)\n",
        "\n",
        "df_test = df[df[\"set\"] == \"test\"].reset_index(drop=True)\n",
        "df_test = df_test.drop([\"set\"], axis=1)"
      ]
    },
    {
      "cell_type": "markdown",
      "metadata": {
        "id": "GiBBVYbhHiMH"
      },
      "source": [
        "### Display Dataset Metrics"
      ]
    },
    {
      "cell_type": "code",
      "execution_count": 5,
      "metadata": {
        "id": "PXsKrTBWH0cN"
      },
      "outputs": [],
      "source": [
        "import numpy as np"
      ]
    },
    {
      "cell_type": "code",
      "execution_count": 6,
      "metadata": {
        "colab": {
          "base_uri": "https://localhost:8080/"
        },
        "id": "nBVsJztHHF3j",
        "outputId": "59a1d752-aa39-44a1-9b83-300f234948c3"
      },
      "outputs": [
        {
          "output_type": "stream",
          "name": "stdout",
          "text": [
            "Length of dataset = 30497\n",
            "Number of training data = 24182\n",
            "Number of testing data = 6315\n"
          ]
        }
      ],
      "source": [
        "print(f\"Length of dataset = {len(df)}\")\n",
        "print(f\"Number of training data = {len(df_train)}\")\n",
        "print(f\"Number of testing data = {len(df_test)}\")"
      ]
    },
    {
      "cell_type": "code",
      "execution_count": 7,
      "metadata": {
        "colab": {
          "base_uri": "https://localhost:8080/"
        },
        "id": "Vu1vEiU9Hr-p",
        "outputId": "cf9eeae1-2057-4313-c05d-6b646b424c0c"
      },
      "outputs": [
        {
          "output_type": "stream",
          "name": "stdout",
          "text": [
            "Number of Topics = 71\n",
            "Number of Topics in training data = 56\n",
            "Number of Topics in testing data = 15\n"
          ]
        }
      ],
      "source": [
        "print(f\"Number of Topics = {len(np.unique(df.topic))}\")\n",
        "print(f\"Number of Topics in training data = {len(np.unique(df_train.topic))}\")\n",
        "print(f\"Number of Topics in testing data = {len(np.unique(df_test.topic))}\")"
      ]
    },
    {
      "cell_type": "markdown",
      "metadata": {
        "id": "Mv9sHF-CJwZE"
      },
      "source": [
        "## **TEXT CLEANING**"
      ]
    },
    {
      "cell_type": "code",
      "execution_count": 8,
      "metadata": {
        "colab": {
          "base_uri": "https://localhost:8080/"
        },
        "id": "zLHMkWF9J3R4",
        "outputId": "2d222008-9bbb-476e-c8a9-8bfa10d6c782"
      },
      "outputs": [
        {
          "output_type": "stream",
          "name": "stderr",
          "text": [
            "/usr/local/lib/python3.9/dist-packages/torch/cuda/__init__.py:497: UserWarning: Can't initialize NVML\n",
            "  warnings.warn(\"Can't initialize NVML\")\n",
            "[nltk_data] Downloading package stopwords to /root/nltk_data...\n",
            "[nltk_data]   Unzipping corpora/stopwords.zip.\n"
          ]
        }
      ],
      "source": [
        "import re\n",
        "\n",
        "import spacy\n",
        "\n",
        "import nltk\n",
        "nltk.download('stopwords')\n",
        "from nltk.corpus import stopwords\n",
        "\n",
        "from gensim.utils import simple_preprocess"
      ]
    },
    {
      "cell_type": "code",
      "execution_count": 9,
      "metadata": {
        "id": "DHpLBkvKOSuo"
      },
      "outputs": [],
      "source": [
        "stop_words = stopwords.words('english')\n",
        "nlp = spacy.load('en_core_web_sm', disable=['parser', 'ner'])\n",
        "allowed_postags=[\"NOUN\", \"ADJ\", \"VERB\"]"
      ]
    },
    {
      "cell_type": "code",
      "execution_count": 10,
      "metadata": {
        "id": "pWMUiUz-Hx4P"
      },
      "outputs": [],
      "source": [
        "def clean_text(text):\n",
        "    text = text.lower() # Convert the text into lowercase\n",
        "    text = text.replace('</br>', '') # Remove </br>\n",
        "    text = text.replace('\\n', '') # Remove \\n\n",
        "    \n",
        "    # Remove quotes\n",
        "    text = re.sub(r\"\\'\", \"\", text) \n",
        "    text = re.sub(r\"\\\"\", \"\", text) \n",
        "    \n",
        "    text = re.sub(r\"[^\\w]\", \" \", text) # Remove all symbols\n",
        "\n",
        "    text = re.sub(r'[ ]{2,}', ' ', text) # Remove extra spaces\n",
        "    text = re.sub(r'[ \\t]+$', '', text) # Remove trailing white spaces\n",
        "\n",
        "    text = simple_preprocess(str(text), deacc=True) # Tokenize the texts\n",
        "\n",
        "    # Remove stopwords\n",
        "    tokens = []\n",
        "    for token in text:\n",
        "        if token not in stop_words:\n",
        "            tokens.append(token)\n",
        "    text = tokens\n",
        "\n",
        "    # Lemmatize the tokens\n",
        "    text = \" \".join(text)\n",
        "    text = nlp(text)\n",
        "    lemmatized_tokens = []\n",
        "    for token in text:\n",
        "        if token.pos_ in allowed_postags:\n",
        "            lemmatized_tokens.append(token.lemma_)\n",
        "    text = lemmatized_tokens\n",
        "\n",
        "    text = \" \".join(text)\n",
        "    return text"
      ]
    },
    {
      "cell_type": "code",
      "execution_count": 11,
      "metadata": {
        "id": "2mMztnBgJ5TG"
      },
      "outputs": [],
      "source": [
        "df_train[\"argument\"] = df_train[\"argument\"].apply(clean_text)\n",
        "df_test[\"argument\"] = df_test[\"argument\"].apply(clean_text)"
      ]
    },
    {
      "cell_type": "code",
      "execution_count": 12,
      "metadata": {
        "colab": {
          "base_uri": "https://localhost:8080/"
        },
        "id": "XWSCw9gkKD_x",
        "outputId": "1a6eb22a-5b2d-41bc-d365-28682aef86f2"
      },
      "outputs": [
        {
          "output_type": "execute_result",
          "data": {
            "text/plain": [
              "0        marriage keep time abandon old thinking bring ...\n",
              "1        system confuse get consensus general public di...\n",
              "2        ero tolerance policy school adopt circumstance...\n",
              "3        people reach limit come quality life able end ...\n",
              "4                                         agree good thing\n",
              "                               ...                        \n",
              "24177    zoo trap animal meaningless life amuse human o...\n",
              "24178                               zoo treat animal close\n",
              "24179                       zoo imprison animal cause harm\n",
              "24180    zoo work educational center cause extinction a...\n",
              "24181                       zoo help breed endanger specie\n",
              "Name: argument, Length: 24182, dtype: object"
            ]
          },
          "metadata": {},
          "execution_count": 12
        }
      ],
      "source": [
        "df_train[\"argument\"]"
      ]
    },
    {
      "cell_type": "markdown",
      "metadata": {
        "id": "xZ0gkmMpS2WV"
      },
      "source": [
        "## **FEATURE EXTRACTION**"
      ]
    },
    {
      "cell_type": "code",
      "execution_count": 13,
      "metadata": {
        "id": "SaN9U9rpKnkf"
      },
      "outputs": [],
      "source": [
        "from sklearn.feature_extraction.text import TfidfVectorizer"
      ]
    },
    {
      "cell_type": "code",
      "execution_count": 14,
      "metadata": {
        "id": "olA0YIjyTrEh"
      },
      "outputs": [],
      "source": [
        "# Build corpus using all texts\n",
        "X = []\n",
        "X.extend(df_train[\"argument\"].tolist())\n",
        "X.extend(df_test[\"argument\"].tolist())"
      ]
    },
    {
      "cell_type": "code",
      "execution_count": 15,
      "metadata": {
        "id": "kUFz9MmZUETg"
      },
      "outputs": [],
      "source": [
        "# Fit vectorizer\n",
        "vectorizer = TfidfVectorizer()\n",
        "vectorizer = vectorizer.fit(X)"
      ]
    },
    {
      "cell_type": "code",
      "execution_count": 16,
      "metadata": {
        "id": "JVOfxkB8Vw1Y"
      },
      "outputs": [],
      "source": [
        "# Transform the text\n",
        "X = vectorizer.transform(X).toarray()\n",
        "X_train = vectorizer.transform(df_train[\"argument\"]).toarray()\n",
        "X_test = vectorizer.transform(df_test[\"argument\"]).toarray()"
      ]
    },
    {
      "cell_type": "code",
      "execution_count": 17,
      "metadata": {
        "colab": {
          "base_uri": "https://localhost:8080/"
        },
        "id": "19OrxjZa31UX",
        "outputId": "62f510e9-5990-4556-eb08-cef6a8e4a7d7"
      },
      "outputs": [
        {
          "output_type": "stream",
          "name": "stdout",
          "text": [
            "Shape of training feature vector: (24182, 8794)\n"
          ]
        }
      ],
      "source": [
        "print(f\"Shape of training feature vector: {X_train.shape}\")"
      ]
    },
    {
      "cell_type": "code",
      "execution_count": 18,
      "metadata": {
        "id": "uhZI1Th620i0"
      },
      "outputs": [],
      "source": [
        "# Extract vocabulary\n",
        "vocab = vectorizer.vocabulary_"
      ]
    },
    {
      "cell_type": "markdown",
      "source": [
        "### Save Vectorizer"
      ],
      "metadata": {
        "id": "DhGJnLSi-4Nc"
      }
    },
    {
      "cell_type": "code",
      "source": [
        "import pickle\n",
        "\n",
        "with open('./tfidf_vectorizer', 'ab') as file:\n",
        "    pickle.dump(vectorizer, file)\n",
        "\n",
        "with open('/content/drive/MyDrive/tfidf_vectorizer', 'ab') as file:\n",
        "    pickle.dump(vectorizer, file)\n",
        "\n",
        "del vectorizer"
      ],
      "metadata": {
        "id": "cDewUvVH-6eJ"
      },
      "execution_count": 19,
      "outputs": []
    },
    {
      "cell_type": "markdown",
      "source": [
        "### Load Vectorizer"
      ],
      "metadata": {
        "id": "8KvlcYGB_AU2"
      }
    },
    {
      "cell_type": "code",
      "source": [
        "with open('./tfidf_vectorizer', 'rb') as file:\n",
        "    vectorizer = pickle.load(file)"
      ],
      "metadata": {
        "id": "zO-o5fAI_Cuf"
      },
      "execution_count": 20,
      "outputs": []
    },
    {
      "cell_type": "markdown",
      "metadata": {
        "id": "sUo96rV73gYW"
      },
      "source": [
        "## **TARGET EXTRACTION**"
      ]
    },
    {
      "cell_type": "code",
      "execution_count": 21,
      "metadata": {
        "id": "iMIiFtbT3MNu"
      },
      "outputs": [],
      "source": [
        "y = np.array(df[\"WA\"])\n",
        "y_train = np.array(df_train[\"WA\"])\n",
        "y_test = np.array(df_test[\"WA\"])"
      ]
    },
    {
      "cell_type": "code",
      "execution_count": 22,
      "metadata": {
        "colab": {
          "base_uri": "https://localhost:8080/"
        },
        "id": "jXeilYRA4bWN",
        "outputId": "2a76dc86-7ef0-47bc-c346-37d2f3f7ac9c"
      },
      "outputs": [
        {
          "output_type": "stream",
          "name": "stdout",
          "text": [
            "Shape of training target vector: (24182,)\n"
          ]
        }
      ],
      "source": [
        "print(f\"Shape of training target vector: {y_train.shape}\")"
      ]
    },
    {
      "cell_type": "markdown",
      "metadata": {
        "id": "GQJi7GxZ400Z"
      },
      "source": [
        "## **LINEAR REGRESSION**"
      ]
    },
    {
      "cell_type": "markdown",
      "metadata": {
        "id": "50QQuEkQ5FEo"
      },
      "source": [
        "### Gridsearch"
      ]
    },
    {
      "cell_type": "code",
      "execution_count": 23,
      "metadata": {
        "id": "LVzrG9yY4vJ5"
      },
      "outputs": [],
      "source": [
        "from sklearn.model_selection import GridSearchCV\n",
        "from sklearn.linear_model import LinearRegression"
      ]
    },
    {
      "cell_type": "code",
      "execution_count": 24,
      "metadata": {
        "id": "M8Za4aDq5QeG"
      },
      "outputs": [],
      "source": [
        "parameters = {\n",
        "    \"fit_intercept\":(True, False), \"copy_X\":(True, False),\n",
        "    \"positive\":(True, False)\n",
        "}\n",
        "\n",
        "lm_model = LinearRegression()\n",
        "\n",
        "clf = GridSearchCV(\n",
        "    lm_model, parameters, n_jobs=-1,\n",
        "    scoring=\"neg_root_mean_squared_error\",\n",
        ")"
      ]
    },
    {
      "cell_type": "code",
      "execution_count": 25,
      "metadata": {
        "id": "K2mfiddN9j25"
      },
      "outputs": [],
      "source": [
        "# Take a random sample\n",
        "\n",
        "import random\n",
        "\n",
        "size = len(X_train) // 10\n",
        "\n",
        "idxs = random.sample(range(0, len(X_train)), size)\n",
        "\n",
        "clf_X = np.array([X_train[idx] for idx in idxs])\n",
        "clf_y = np.array([y_train[idx] for idx in idxs])"
      ]
    },
    {
      "cell_type": "code",
      "execution_count": 26,
      "metadata": {
        "id": "dxiiF0Aq56HE"
      },
      "outputs": [],
      "source": [
        "# clf = clf.fit(clf_X, clf_y)"
      ]
    },
    {
      "cell_type": "code",
      "execution_count": 27,
      "metadata": {
        "id": "dxXAGd5U6TqX"
      },
      "outputs": [],
      "source": [
        "# print(\"The best parameters are:\")\n",
        "# best_params = clf.best_params_\n",
        "# for key in best_params:\n",
        "#     print(f\"{key}=>{best_params[key]}\")"
      ]
    },
    {
      "cell_type": "markdown",
      "metadata": {
        "id": "42D6kH9KDCcM"
      },
      "source": [
        "### Train Model"
      ]
    },
    {
      "cell_type": "code",
      "execution_count": 28,
      "metadata": {
        "id": "JoeM7S1e9BS3"
      },
      "outputs": [],
      "source": [
        "model = LinearRegression(\n",
        "    copy_X=True, fit_intercept=True, \n",
        "    positive=True, n_jobs=-1\n",
        ")\n",
        "\n",
        "\n",
        "history = model.fit(X_train, y_train)\n",
        "\n",
        "lr_pred = model.predict(X_test)"
      ]
    },
    {
      "cell_type": "markdown",
      "source": [
        "### Evaluate Model"
      ],
      "metadata": {
        "id": "p7qT7801g7LN"
      }
    },
    {
      "cell_type": "code",
      "execution_count": 29,
      "metadata": {
        "id": "mCd4WD6fE8ms"
      },
      "outputs": [],
      "source": [
        "from sklearn.metrics import r2_score, mean_absolute_error, mean_squared_error"
      ]
    },
    {
      "cell_type": "code",
      "source": [
        "print(\"METRICS\\tSCORE\")\n",
        "\n",
        "r2_val = r2_score(y_test, lr_pred)\n",
        "print(\"R2:\", end=\"\\t\")\n",
        "print(f\"{r2_val:>.4f}\")\n",
        "\n",
        "mae_val = mean_absolute_error(y_test, lr_pred)\n",
        "print(\"MAE:\", end=\"\\t\")\n",
        "print(f\"{mae_val:>.4f}\")\n",
        "\n",
        "mse_val = mean_squared_error(y_test, lr_pred, squared=True)\n",
        "print(\"MSE:\", end=\"\\t\")\n",
        "print(f\"{mse_val:>.4f}\")\n",
        "\n",
        "rmse_val = mean_squared_error(y_test, lr_pred, squared=False)\n",
        "print(\"RMSE:\", end=\"\\t\")\n",
        "print(f\"{rmse_val:>.4f}\")"
      ],
      "metadata": {
        "colab": {
          "base_uri": "https://localhost:8080/"
        },
        "id": "Amfi1BJEhizE",
        "outputId": "924f9a91-7cc4-4b58-d47a-6b935ca7a73d"
      },
      "execution_count": 30,
      "outputs": [
        {
          "output_type": "stream",
          "name": "stdout",
          "text": [
            "METRICS\tSCORE\n",
            "R2:\t-0.2347\n",
            "MAE:\t0.1820\n",
            "MSE:\t0.0489\n",
            "RMSE:\t0.2210\n"
          ]
        }
      ]
    },
    {
      "cell_type": "markdown",
      "source": [
        "### Save Model"
      ],
      "metadata": {
        "id": "Bu18vlWt_d1q"
      }
    },
    {
      "cell_type": "code",
      "source": [
        "import pickle\n",
        "\n",
        "with open('./tfidf_lr_model', 'ab') as file:\n",
        "    pickle.dump(model, file)\n",
        "\n",
        "with open('/content/drive/MyDrive/tfidf_lr_model', 'ab') as file:\n",
        "    pickle.dump(model, file)\n",
        "\n",
        "del model"
      ],
      "metadata": {
        "id": "rmPCLrDm_hDq"
      },
      "execution_count": 31,
      "outputs": []
    },
    {
      "cell_type": "markdown",
      "source": [
        "### Load Model"
      ],
      "metadata": {
        "id": "UTuWBKY5_fhg"
      }
    },
    {
      "cell_type": "code",
      "source": [
        "with open('./tfidf_lr_model', 'rb') as file:\n",
        "    model = pickle.load(file)"
      ],
      "metadata": {
        "id": "l8CbnjkE_s7g"
      },
      "execution_count": 32,
      "outputs": []
    },
    {
      "cell_type": "code",
      "source": [
        "lr_pred = model.predict(X_test)\n",
        "rmse_val = mean_squared_error(y_test, lr_pred, squared=False)\n",
        "print(\"RMSE:\", end=\"\\t\")\n",
        "print(f\"{rmse_val:>.4f}\")"
      ],
      "metadata": {
        "colab": {
          "base_uri": "https://localhost:8080/"
        },
        "id": "SaEg9lMD_wF_",
        "outputId": "2c1a7ed7-fc39-4ad0-be7d-1ff3a6f70595"
      },
      "execution_count": 33,
      "outputs": [
        {
          "output_type": "stream",
          "name": "stdout",
          "text": [
            "RMSE:\t0.2210\n"
          ]
        }
      ]
    },
    {
      "cell_type": "markdown",
      "metadata": {
        "id": "VhEDygHsk23n"
      },
      "source": [
        "## **SUPPORT VECTOR MACHINE**"
      ]
    },
    {
      "cell_type": "markdown",
      "metadata": {
        "id": "zr5gn2g-k234"
      },
      "source": [
        "### Gridsearch"
      ]
    },
    {
      "cell_type": "code",
      "execution_count": 34,
      "metadata": {
        "id": "WpHrraqTk235"
      },
      "outputs": [],
      "source": [
        "from sklearn.model_selection import GridSearchCV\n",
        "from sklearn.svm import SVR"
      ]
    },
    {
      "cell_type": "code",
      "execution_count": 35,
      "metadata": {
        "id": "bhc95UBek235"
      },
      "outputs": [],
      "source": [
        "parameters = {\n",
        "    \"kernel\":(\"linear\", \"poly\", \"rbf\", \"sigmoid\"), \n",
        "    \"degree\":(2, 3, 4),\n",
        "    \"C\":(0.1, 1),\n",
        "}\n",
        "\n",
        "svm_model = SVR()\n",
        "\n",
        "clf = GridSearchCV(\n",
        "    svm_model, parameters, n_jobs=-1,\n",
        "    scoring=\"neg_root_mean_squared_error\",\n",
        ")"
      ]
    },
    {
      "cell_type": "code",
      "execution_count": 36,
      "metadata": {
        "id": "Uo56e1LJk235"
      },
      "outputs": [],
      "source": [
        "# Take a random sample\n",
        "\n",
        "import random\n",
        "\n",
        "size = len(X_train) // 10\n",
        "\n",
        "idxs = random.sample(range(0, len(X_train)), size)\n",
        "\n",
        "clf_X = np.array([X_train[idx] for idx in idxs])\n",
        "clf_y = np.array([y_train[idx] for idx in idxs])"
      ]
    },
    {
      "cell_type": "code",
      "execution_count": 37,
      "metadata": {
        "id": "1snhVgEYk236"
      },
      "outputs": [],
      "source": [
        "# clf = clf.fit(clf_X, clf_y)"
      ]
    },
    {
      "cell_type": "code",
      "execution_count": 38,
      "metadata": {
        "id": "ITfj6nXpk236"
      },
      "outputs": [],
      "source": [
        "# print(\"The best parameters are:\")\n",
        "# best_params = clf.best_params_\n",
        "# for key in best_params:\n",
        "#     print(f\"{key}=>{best_params[key]}\")"
      ]
    },
    {
      "cell_type": "markdown",
      "metadata": {
        "id": "Ly_XPps-k236"
      },
      "source": [
        "### Train Model"
      ]
    },
    {
      "cell_type": "code",
      "execution_count": 39,
      "metadata": {
        "id": "JRk_xUnnk237"
      },
      "outputs": [],
      "source": [
        "model = SVR(\n",
        "    C=0.1, degree=2, kernel=\"rbf\"\n",
        ")\n",
        "\n",
        "history = model.fit(X_train, y_train)\n",
        "\n",
        "svm_pred = model.predict(X_test)"
      ]
    },
    {
      "cell_type": "markdown",
      "source": [
        "### Evaluate Model"
      ],
      "metadata": {
        "id": "eJhh8SJWk237"
      }
    },
    {
      "cell_type": "code",
      "execution_count": 40,
      "metadata": {
        "id": "-x0WmN26k237"
      },
      "outputs": [],
      "source": [
        "from sklearn.metrics import r2_score, mean_absolute_error, mean_squared_error"
      ]
    },
    {
      "cell_type": "code",
      "source": [
        "print(\"METRICS\\tSCORE\")\n",
        "\n",
        "r2_val = r2_score(y_test, svm_pred)\n",
        "print(\"R2:\", end=\"\\t\")\n",
        "print(f\"{r2_val:>.4f}\")\n",
        "\n",
        "mae_val = mean_absolute_error(y_test, svm_pred)\n",
        "print(\"MAE:\", end=\"\\t\")\n",
        "print(f\"{mae_val:>.4f}\")\n",
        "\n",
        "mse_val = mean_squared_error(y_test, svm_pred, squared=True)\n",
        "print(\"MSE:\", end=\"\\t\")\n",
        "print(f\"{mse_val:>.4f}\")\n",
        "\n",
        "rmse_val = mean_squared_error(y_test, svm_pred, squared=False)\n",
        "print(\"RMSE:\", end=\"\\t\")\n",
        "print(f\"{rmse_val:>.4f}\")"
      ],
      "metadata": {
        "colab": {
          "base_uri": "https://localhost:8080/"
        },
        "outputId": "07965051-3e37-40ff-9fc8-ff1f672262d2",
        "id": "IJ3n50Y0k237"
      },
      "execution_count": 41,
      "outputs": [
        {
          "output_type": "stream",
          "name": "stdout",
          "text": [
            "METRICS\tSCORE\n",
            "R2:\t0.0823\n",
            "MAE:\t0.1523\n",
            "MSE:\t0.0363\n",
            "RMSE:\t0.1906\n"
          ]
        }
      ]
    },
    {
      "cell_type": "markdown",
      "source": [
        "### Save Model"
      ],
      "metadata": {
        "id": "iALEqCwU_Mcr"
      }
    },
    {
      "cell_type": "code",
      "source": [
        "import pickle\n",
        "\n",
        "with open('./tfidf_svm_model', 'ab') as file:\n",
        "    pickle.dump(model, file)\n",
        "\n",
        "with open('/content/drive/MyDrive/tfidf_svm_model', 'ab') as file:\n",
        "    pickle.dump(model, file)\n",
        "\n",
        "del model"
      ],
      "metadata": {
        "id": "nbPX4Dca_Nl3"
      },
      "execution_count": 42,
      "outputs": []
    },
    {
      "cell_type": "markdown",
      "source": [
        "### Load Model"
      ],
      "metadata": {
        "id": "XaDEQ0xy_R4J"
      }
    },
    {
      "cell_type": "code",
      "source": [
        "with open('./tfidf_svm_model', 'rb') as file:\n",
        "    model = pickle.load(file)"
      ],
      "metadata": {
        "id": "JO_yoyo3_RCc"
      },
      "execution_count": 43,
      "outputs": []
    },
    {
      "cell_type": "code",
      "source": [
        "svm_pred = model.predict(X_test)\n",
        "rmse_val = mean_squared_error(y_test, svm_pred, squared=False)\n",
        "print(\"RMSE:\", end=\"\\t\")\n",
        "print(f\"{rmse_val:>.4f}\")"
      ],
      "metadata": {
        "colab": {
          "base_uri": "https://localhost:8080/"
        },
        "id": "QB9lkI81_WpL",
        "outputId": "458de344-df60-4158-8137-2fa2d805f3c8"
      },
      "execution_count": 44,
      "outputs": [
        {
          "output_type": "stream",
          "name": "stdout",
          "text": [
            "RMSE:\t0.1906\n"
          ]
        }
      ]
    }
  ],
  "metadata": {
    "colab": {
      "provenance": []
    },
    "kernelspec": {
      "display_name": "Python 3",
      "name": "python3"
    },
    "language_info": {
      "name": "python"
    }
  },
  "nbformat": 4,
  "nbformat_minor": 0
}